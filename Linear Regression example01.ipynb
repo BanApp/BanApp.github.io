{
  "nbformat": 4,
  "nbformat_minor": 0,
  "metadata": {
    "colab": {
      "name": "Untitled0.ipynb",
      "provenance": [],
      "authorship_tag": "ABX9TyOXoCvT6Tdz8s3HCxoF/a8G",
      "include_colab_link": true
    },
    "kernelspec": {
      "name": "python3",
      "display_name": "Python 3"
    },
    "language_info": {
      "name": "python"
    }
  },
  "cells": [
    {
      "cell_type": "markdown",
      "metadata": {
        "id": "view-in-github",
        "colab_type": "text"
      },
      "source": [
        "<a href=\"https://colab.research.google.com/github/BanApp/BanApp.github.io/blob/main/Linear%20Regression%20example01.ipynb\" target=\"_parent\"><img src=\"https://colab.research.google.com/assets/colab-badge.svg\" alt=\"Open In Colab\"/></a>"
      ]
    },
    {
      "cell_type": "code",
      "execution_count": 20,
      "metadata": {
        "colab": {
          "base_uri": "https://localhost:8080/"
        },
        "id": "9_7ORA49H71G",
        "outputId": "4b48e7b6-c93d-4363-d586-0cfdb45a4880"
      },
      "outputs": [
        {
          "output_type": "stream",
          "name": "stdout",
          "text": [
            "Epoch    0/1999 W: 0.213, b: 0.100 Cost: 25.666666\n",
            "Epoch  100/1999 W: 1.740, b: 1.318 Cost: 0.407872\n",
            "Epoch  200/1999 W: 1.582, b: 1.678 Cost: 0.252040\n",
            "Epoch  300/1999 W: 1.457, b: 1.961 Cost: 0.155745\n",
            "Epoch  400/1999 W: 1.359, b: 2.183 Cost: 0.096241\n",
            "Epoch  500/1999 W: 1.283, b: 2.358 Cost: 0.059471\n",
            "Epoch  600/1999 W: 1.222, b: 2.495 Cost: 0.036749\n",
            "Epoch  700/1999 W: 1.175, b: 2.603 Cost: 0.022709\n",
            "Epoch  800/1999 W: 1.137, b: 2.688 Cost: 0.014033\n",
            "Epoch  900/1999 W: 1.108, b: 2.755 Cost: 0.008671\n",
            "Epoch 1000/1999 W: 1.085, b: 2.807 Cost: 0.005358\n",
            "Epoch 1100/1999 W: 1.067, b: 2.848 Cost: 0.003311\n",
            "Epoch 1200/1999 W: 1.052, b: 2.881 Cost: 0.002046\n",
            "Epoch 1300/1999 W: 1.041, b: 2.906 Cost: 0.001264\n",
            "Epoch 1400/1999 W: 1.032, b: 2.926 Cost: 0.000781\n",
            "Epoch 1500/1999 W: 1.025, b: 2.942 Cost: 0.000483\n",
            "Epoch 1600/1999 W: 1.020, b: 2.955 Cost: 0.000298\n",
            "Epoch 1700/1999 W: 1.016, b: 2.964 Cost: 0.000184\n",
            "Epoch 1800/1999 W: 1.012, b: 2.972 Cost: 0.000114\n",
            "Epoch 1900/1999 W: 1.010, b: 2.978 Cost: 0.000070\n"
          ]
        }
      ],
      "source": [
        "import torch\n",
        "import torch.nn as nn\n",
        "import torch.nn.functional as F\n",
        "import torch.optim as optim\n",
        "\n",
        "torch.manual_seed(1) #다른 컴퓨터에서 실행시켜도 동일한 결과\n",
        "\n",
        "#데이터\n",
        "x_train = torch.FloatTensor([[1],[2],[3]])\n",
        "y_train = torch.FloatTensor([[4],[5],[6]])\n",
        "\n",
        "#모델 0으로 초기화\n",
        "W = torch.zeros(1, requires_grad=True)\n",
        "b = torch.zeros(1, requires_grad=True)\n",
        "\n",
        "#optimizer 설정 및 learning rate = 0.01\n",
        "optimizer = optim.SGD([W, b], lr=0.01)\n",
        "\n",
        "nb_epochs = 1999 #원하는 만큼 경사 하강법 반복\n",
        "\n",
        "for epoch in range(nb_epochs+1):\n",
        "  #H(x)\n",
        "  hypothesis = x_train * W + b\n",
        "  \n",
        "  #cost의 H(x)에 대한 식\n",
        "  cost = torch.mean((hypothesis - y_train) ** 2)\n",
        "\n",
        "  #cost로 H(x) 개선\n",
        "  optimizer.zero_grad() #미분값이 누적되지 않도록 초기화 새로운 가중치 편향에 대한 새로운 기울기\n",
        "  cost.backward() #가중치 W와 편향 b에 대한 기울기 계산\n",
        "  optimizer.step() #리턴값을 lr을 곱해서 W와 b 업데이트\n",
        "\n",
        "   # 100번마다 로그 출력\n",
        "  if epoch % 100 == 0:\n",
        "    print('Epoch {:4d}/{} W: {:.3f}, b: {:.3f} Cost: {:.6f}'.format(\n",
        "        epoch, nb_epochs, W.item(), b.item(), cost.item()\n",
        "        ))\n",
        "    \n",
        "    #3000번 수행시 H(x) = x+3 임을 찾아냄 w=1.001, b=2.998\n",
        "\n"
      ]
    }
  ]
}